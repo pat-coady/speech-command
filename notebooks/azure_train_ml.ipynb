{
 "cells": [
  {
   "cell_type": "markdown",
   "metadata": {},
   "source": [
    "# Launch Training Jobs on Azure Cluster"
   ]
  },
  {
   "cell_type": "code",
   "execution_count": null,
   "metadata": {},
   "outputs": [],
   "source": [
    "from azureml.core import Workspace\n",
    "from azureml.exceptions import WorkspaceException\n",
    "from azureml.exceptions import ComputeTargetException\n",
    "from azureml.core.compute import ComputeTarget\n",
    "from azureml.core.compute import AmlCompute\n",
    "from azureml.core import Experiment\n",
    "from azureml.core import Datastore\n",
    "from azureml.train.estimator import Estimator\n",
    "from azureml.tensorboard import Tensorboard\n",
    "from azureml.train.hyperdrive import HyperDriveConfig\n",
    "from azureml.train.hyperdrive import GridParameterSampling\n",
    "from azureml.train.hyperdrive import PrimaryMetricGoal\n",
    "from azureml.train.hyperdrive import MedianStoppingPolicy\n",
    "from azureml.train.hyperdrive.parameter_expressions import choice\n",
    "from azureml.train.hyperdrive.parameter_expressions import uniform\n",
    "\n",
    "from pathlib import Path"
   ]
  },
  {
   "cell_type": "markdown",
   "metadata": {},
   "source": [
    "## Options"
   ]
  },
  {
   "cell_type": "code",
   "execution_count": null,
   "metadata": {},
   "outputs": [],
   "source": [
    "LIST_VMS = False\n",
    "USE_GPU = True"
   ]
  },
  {
   "cell_type": "markdown",
   "metadata": {},
   "source": [
    "## Create Workspace"
   ]
  },
  {
   "cell_type": "code",
   "execution_count": null,
   "metadata": {},
   "outputs": [],
   "source": [
    "try:\n",
    "    ws = Workspace.create(name='kws',\n",
    "                          location='eastus',\n",
    "                          resource_group='rg1',\n",
    "                          subscription_id='5fb52191-233d-4b0f-9713-de0e41784e6e')\n",
    "    ws.write_config()\n",
    "except WorkspaceException:\n",
    "    print('Found existing Workspace, using it.')\n",
    "    ws = Workspace.from_config(Path.cwd() / '.azureml' / 'config.json')"
   ]
  },
  {
   "cell_type": "code",
   "execution_count": null,
   "metadata": {},
   "outputs": [],
   "source": [
    "if LIST_VMS:\n",
    "    print(AmlCompute.supported_vmsizes(workspace=ws))"
   ]
  },
  {
   "cell_type": "markdown",
   "metadata": {},
   "source": [
    "## Create Compute Target (Cluster)\n",
    "A persistent Azure Machine Learning Compute can be reused across jobs. The compute can be shared with other users in the workspace and is kept between jobs.  \n",
    "https://docs.microsoft.com/en-us/azure/machine-learning/service/how-to-set-up-training-targets  "
   ]
  },
  {
   "cell_type": "code",
   "execution_count": null,
   "metadata": {},
   "outputs": [],
   "source": [
    "# Set cluster name\n",
    "cluster_name = \"NC6-standard8\"\n",
    "vm_priority = 'dedicated'  # 'dedicated' or 'lowpriority'\n",
    "max_nodes = 8\n",
    "\n",
    "# Verify that cluster does not exist already\n",
    "try:\n",
    "    cluster = ComputeTarget(workspace=ws, name=cluster_name)\n",
    "    print('Found existing cluster, using it.')\n",
    "except ComputeTargetException:\n",
    "    if USE_GPU:\n",
    "        vm_size = 'Standard_NC6'\n",
    "#         vm_size = 'Standard_NC6s_v3'\n",
    "    else:\n",
    "        vm_size = 'Standard_DS4_v2'\n",
    "    compute_config = AmlCompute.provisioning_configuration(vm_size=vm_size,\n",
    "                                                           max_nodes=max_nodes,\n",
    "                                                           vm_priority=vm_priority,\n",
    "                                                           idle_seconds_before_scaledown=3600)\n",
    "    cluster = ComputeTarget.create(ws, cluster_name, compute_config)\n",
    "\n",
    "cluster.wait_for_completion(show_output=True)"
   ]
  },
  {
   "cell_type": "markdown",
   "metadata": {},
   "source": [
    "## Register Datastore  \n",
    "https://docs.microsoft.com/en-us/azure/machine-learning/service/how-to-access-data"
   ]
  },
  {
   "cell_type": "code",
   "execution_count": null,
   "metadata": {
    "scrolled": true
   },
   "outputs": [],
   "source": [
    "datastores = ws.datastores\n",
    "if 'training_data' not in datastores.keys():\n",
    "    acct_key = 'fzVL5O3ybeVQ/eBeMzp5YqnmDUkFwhVJTWPaNezIuxAZWoduY79W7o3l3Zop3FN22txHCXl3UBkdaaM/9C+12Q=='\n",
    "    Datastore.register_azure_blob_container(workspace=ws, \n",
    "                                            datastore_name='training_data', \n",
    "                                            container_name='asgdata',\n",
    "                                            account_name='asgdata', \n",
    "                                            account_key=acct_key,\n",
    "                                            create_if_not_exists=False)\n",
    "else:\n",
    "    print('Found existing training_data Datastore, using it.')\n",
    "ds = ws.datastores['training_data']"
   ]
  },
  {
   "cell_type": "markdown",
   "metadata": {},
   "source": [
    "## Create an Experiment and Run  \n",
    "https://docs.microsoft.com/en-us/azure/machine-learning/service/how-to-train-ml-models  "
   ]
  },
  {
   "cell_type": "code",
   "execution_count": null,
   "metadata": {},
   "outputs": [],
   "source": [
    "# `data_dir` is the path on container to training and val `*.tfr` files\n",
    "script_params = {\n",
    "    '--azure_ml': \"\",\n",
    "    '--data_dir': ds.path('Data/kws/tfrecords').as_download(),\n",
    "    '--ds_type': \"samples\",\n",
    "}\n",
    "\n",
    "tf_est = Estimator(source_directory=Path.cwd() / '..' / 'kws',\n",
    "                   script_params=script_params,\n",
    "                   compute_target=cluster,\n",
    "                   use_gpu=USE_GPU,\n",
    "                   entry_script='train.py',\n",
    "                   pip_packages=['tensorflow-gpu'])"
   ]
  },
  {
   "cell_type": "code",
   "execution_count": null,
   "metadata": {},
   "outputs": [],
   "source": [
    "experiment_name = 'kws'\n",
    "exp = Experiment(workspace=ws, name=experiment_name)"
   ]
  },
  {
   "cell_type": "code",
   "execution_count": null,
   "metadata": {},
   "outputs": [],
   "source": [
    "run = exp.submit(tf_est)\n",
    "print(run.get_portal_url())\n",
    "# run.wait_for_completion(show_output=True)  # view stream of stdout"
   ]
  },
  {
   "cell_type": "markdown",
   "metadata": {},
   "source": [
    "## Launch TensorBoard Server  \n",
    "https://docs.microsoft.com/en-us/azure/machine-learning/service/how-to-monitor-tensorboard"
   ]
  },
  {
   "cell_type": "code",
   "execution_count": null,
   "metadata": {},
   "outputs": [],
   "source": [
    "tb = Tensorboard([run])\n",
    "tb.start() # click on link and tensboard up-and-running with run training data"
   ]
  },
  {
   "cell_type": "code",
   "execution_count": null,
   "metadata": {},
   "outputs": [],
   "source": [
    "# close server when done\n",
    "tb.stop()"
   ]
  },
  {
   "cell_type": "markdown",
   "metadata": {},
   "source": [
    "## Hyperparameter Tuning: Grid Search  \n",
    "https://docs.microsoft.com/en-us/azure/machine-learning/service/how-to-tune-hyperparameters"
   ]
  },
  {
   "cell_type": "code",
   "execution_count": null,
   "metadata": {},
   "outputs": [],
   "source": [
    "param_sampling = GridParameterSampling(\n",
    "    {\"load_genc\": choice(0, 1),\n",
    "     \"train_genc\": choice(0, 1),\n",
    "})\n",
    "\n",
    "hyperdrive_run_config = HyperDriveConfig(estimator=tf_est,\n",
    "                          hyperparameter_sampling=param_sampling, \n",
    "                          primary_metric_name=\"val_loss\",\n",
    "#                           policy=MedianStoppingPolicy(evaluation_interval=5, delay_evaluation=11),\n",
    "                          primary_metric_goal=PrimaryMetricGoal.MINIMIZE,\n",
    "                          max_total_runs=100,\n",
    "                          max_concurrent_runs=max_nodes)"
   ]
  },
  {
   "cell_type": "code",
   "execution_count": null,
   "metadata": {},
   "outputs": [],
   "source": [
    "experiment = Experiment(ws, 'hyperparam')\n",
    "hyperdrive_run = experiment.submit(hyperdrive_run_config)\n",
    "print(hyperdrive_run.get_portal_url())"
   ]
  }
 ],
 "metadata": {
  "kernelspec": {
   "display_name": "Python 3",
   "language": "python",
   "name": "python3"
  },
  "language_info": {
   "codemirror_mode": {
    "name": "ipython",
    "version": 3
   },
   "file_extension": ".py",
   "mimetype": "text/x-python",
   "name": "python",
   "nbconvert_exporter": "python",
   "pygments_lexer": "ipython3",
   "version": "3.6.8"
  }
 },
 "nbformat": 4,
 "nbformat_minor": 4
}
